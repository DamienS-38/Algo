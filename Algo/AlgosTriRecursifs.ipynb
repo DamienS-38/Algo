{
 "cells": [
  {
   "cell_type": "markdown",
   "metadata": {},
   "source": [
    "# 0 Mise en place des fonctions de travail "
   ]
  },
  {
   "cell_type": "code",
   "execution_count": null,
   "metadata": {},
   "outputs": [],
   "source": [
    "import random\n",
    "\n",
    "def generate_random_array(debug=False, N=21):\n",
    "    \"\"\"Renvoie un tableau contenant toutes les valeurs entières de 0 (inclus)\n",
    "    à N (exclus) rangées dans un ordre aléatoire\n",
    "\n",
    "    Args:\n",
    "        debug (boolean): quand debug est vrai, la fonction renvoie toujours le\n",
    "                         même tableau afin de simplifier le débogage de vos\n",
    "                         algorithmes de tri\n",
    "        N (int): la taille du tableau à renvoyer\n",
    "\n",
    "    Returns:\n",
    "        list[int]: un tableau d'entiers, de taille N, non ordonné\n",
    "    \"\"\"\n",
    "\n",
    "    if debug:\n",
    "        return [3, 9, 7, 1, 6, 2, 8, 4, 5, 0]\n",
    "\n",
    "    array = list(range(0, N))\n",
    "    random.shuffle(array)\n",
    "\n",
    "    return array"
   ]
  },
  {
   "cell_type": "code",
   "execution_count": null,
   "metadata": {},
   "outputs": [],
   "source": [
    "# Exemple d'utilisation de la fonction precedente\n",
    "\n",
    "print(generate_random_array()) # Retourne un tableau avec des nombres naturels allant de 0 a 20\n",
    "print(generate_random_array(True)) # Retourne le tableau [3, 9, 7, 1, 6, 2, 8, 4, 5, 0]\n",
    "print(generate_random_array(N=31)) # Des nombres naturels allant de 0 a 30"
   ]
  },
  {
   "cell_type": "code",
   "execution_count": null,
   "metadata": {},
   "outputs": [],
   "source": [
    "def swap(tab, i, j):\n",
    "    \"\"\"Échange la place des éléments aux indices i et j du tableau\"\"\"\n",
    "    tab[i],tab[j]=tab[j],tab[i]\n",
    "    #raise NotImplementedError\n",
    "    return tab\n",
    "\n",
    "tableau=swap(generate_random_array(),1,10)\n",
    "print(tableau)"
   ]
  },
  {
   "cell_type": "markdown",
   "metadata": {},
   "source": [
    "# 1 Les tris recursif "
   ]
  },
  {
   "cell_type": "markdown",
   "metadata": {},
   "source": [
    "## 1.1 Merge Sort"
   ]
  },
  {
   "cell_type": "code",
   "execution_count": null,
   "metadata": {},
   "outputs": [],
   "source": [
    "from IPython.display import YouTubeVideo\n",
    "\n",
    "YouTubeVideo('XaqR3G_NVoo', height=600, width=900)"
   ]
  },
  {
   "attachments": {},
   "cell_type": "markdown",
   "metadata": {},
   "source": [
    "**Remarque :** si le pseudo n'est pas au format qui vous convient, réécrivez le ! Il y a peu de chance dans votre futur métier que le pseudocode que vous lirez soit dans votre code de prédilection."
   ]
  },
  {
   "cell_type": "markdown",
   "metadata": {},
   "source": [
    "**Un pseudocode possible** *(source : Wikipedia)*\n",
    "\n",
    "```\n",
    "procedure tri_fusion (E/S t :Tableau[1..MAX] d’Entier,E nb :Naturel) \n",
    "debut\n",
    "    tri_fusion_recursif(t,0,nb)\n",
    "fin\n",
    "\n",
    "procedure tri_fusion_recursif (E/S t :Tableau[1..MAX] d’Entier,E d,f :Naturel) \n",
    "debut\n",
    "    si d < f - 1  alors\n",
    "        m = (d+f) div 2\n",
    "        tri_fusion_recursif(t,d, m) \n",
    "        tri_fusion_recursif(t, m+1,f) \n",
    "        fusionnner(t,d,m,f)\n",
    "    finsi\n",
    "fin\n",
    "\n",
    "procedure fusionner (E/S t : Tableau[1..MAX] d’Entier ; E debut,milieu,fin : Naturel) \n",
    "    Declaration i,j,k : Naturel,\n",
    "                 temp : Tableau[1..MAX] d’Entier\n",
    "debut\n",
    "    i ← debut\n",
    "    j ← milieu\n",
    "    pour k ← debut a fin faire\n",
    "        si i < milieu et j <fin alors \n",
    "            si t[i] <= t[j] alors\n",
    "                temp[k] ← t[i]\n",
    "                i ← i+1 \n",
    "            sinon\n",
    "                temp[k] ← t[j]\n",
    "                j ← j+1 \n",
    "            finsi\n",
    "        sinon\n",
    "            si i < milieu alors\n",
    "                temp[k] ← t[i]\n",
    "                i ← i+1 \n",
    "            sinon\n",
    "                temp[k] ← t[j]\n",
    "                j ← j+1 \n",
    "            finsi\n",
    "        finsi\n",
    "    fin pour\n",
    "    \n",
    "    pour k ← debut à fin faire \n",
    "        t[k] ← temp[k]\n",
    "    fin pour\n",
    "fin\n",
    "    \n",
    "```"
   ]
  },
  {
   "cell_type": "code",
   "execution_count": null,
   "metadata": {},
   "outputs": [],
   "source": [
    "def merge_sort1(tab):\n",
    "    \"\"\"Trie le tableau via le principe de « diviser pour mieux régner »\n",
    "    avec l'intelligence du tri qui se trouve au moment de la fusion\"\"\"\n",
    "\n",
    "    merge_sort_r(tab, 0, len(tab))\n",
    "\n",
    "\n",
    "def merge_sort_r(tab, start, end):\n",
    "    if start<end-1:\n",
    "        m=(start+end)//2\n",
    "        merge_sort_r(tab,start,m)\n",
    "        merge_sort_r(tab,m,end)\n",
    "        merge(tab,start,m, end)\n",
    "    #raise NotImplementedError\n",
    "\n",
    "def merge(tab, start, middle, end):\n",
    "    i=start\n",
    "    j=middle\n",
    "    temp=[0]*int(len(tab))\n",
    "    for k in range(start, end):\n",
    "        if i<middle and j<end:\n",
    "            if tab[i]<=tab[j]:\n",
    "                temp[k]=tab[i]\n",
    "                #i=i+1\n",
    "                i+=1\n",
    "            else:\n",
    "                temp[k]=tab[j]\n",
    "                #j=j+1\n",
    "                j+=1\n",
    "        else:\n",
    "            if i<middle:\n",
    "                temp[k]=tab[i]\n",
    "                i+=1\n",
    "            else:\n",
    "                temp[k]=tab[j]\n",
    "                j+=1\n",
    "    \n",
    "    for k in range (start,end):\n",
    "        tab[k]=temp[k]\n"
   ]
  },
  {
   "cell_type": "code",
   "execution_count": null,
   "metadata": {
    "scrolled": false
   },
   "outputs": [],
   "source": [
    "from sorting import merge_sort\n",
    "l=generate_random_array()\n",
    "merge_sort(l)\n",
    "l"
   ]
  },
  {
   "cell_type": "markdown",
   "metadata": {},
   "source": [
    "## 1.2 Tri quick sort"
   ]
  },
  {
   "cell_type": "code",
   "execution_count": null,
   "metadata": {},
   "outputs": [],
   "source": [
    "from IPython.display import YouTubeVideo\n",
    "\n",
    "YouTubeVideo('ywWBy6J5gz8', height=600, width=900)"
   ]
  },
  {
   "cell_type": "markdown",
   "metadata": {},
   "source": [
    "**Un pseudocode possible** \n",
    "\n",
    "```\n",
    "tri_rapide(tableau T, entier nb):\n",
    "    tri_rapide_recursif(T,0,nb-1)\n",
    "\n",
    "\n",
    "tri_rapide_recursif(tableau T, entier premier, entier dernier)\n",
    "    si premier < dernier alors\n",
    "        pivot := partitionner(T, premier, dernier)\n",
    "        tri_rapide_recursif(T, premier, pivot-1)\n",
    "        tri_rapide_recursif(T, pivot+1, dernier)\n",
    "    fin si\n",
    "\n",
    "\n",
    "partitionner(tableau T, entier premier, entier dernier)\n",
    "    pivot := T[premier]\n",
    "    i := premier\n",
    "    j := dernier\n",
    "    tant que i <= j faire\n",
    "        si T[i] <= pivot alors \n",
    "            i := i+1\n",
    "        sinon\n",
    "            si T[j] > pivot alors\n",
    "                j := j-1 \n",
    "            sinon\n",
    "                echanger(T[i],T[j])\n",
    "            finsi \n",
    "        finsi\n",
    "    fin tant que\n",
    "    echanger(t[first],t[j])\n",
    "    \n",
    "    retourner j      \n",
    "```"
   ]
  },
  {
   "cell_type": "code",
   "execution_count": null,
   "metadata": {},
   "outputs": [],
   "source": [
    "def quick_sort1(tab):\n",
    "    \"\"\"Divise le tableau en deux, trie chacune des sous-parties et fusionne\n",
    "    intelligemment les deux sous-parties triées. L'intelligence se trouve\n",
    "    dans la division du tableau.\"\"\"\n",
    "\n",
    "    quick_sort_r(tab, 0, len(tab)-1)\n",
    "\n",
    "def quick_sort_r(tab, first, last):\n",
    "    if first<last:\n",
    "        pivot=partition(tab,first,last)\n",
    "        quick_sort_r(tab, first, pivot-1)\n",
    "        quick_sort_r(tab, pivot+1,last)\n",
    "\n",
    "        \n",
    "def partition(tab, first, last):\n",
    "    pivot=tab[first]\n",
    "    i=first\n",
    "    j=last\n",
    "    while i<=j:\n",
    "        if tab[i]<=pivot:\n",
    "            i=i+1\n",
    "        else:\n",
    "            if tab[j]>pivot:\n",
    "                j-=1\n",
    "            else:\n",
    "                swap(tab,i,j)\n",
    "    tab[first],tab[j]=tab[j],tab[first]\n",
    "    return j"
   ]
  },
  {
   "cell_type": "code",
   "execution_count": null,
   "metadata": {
    "scrolled": false
   },
   "outputs": [],
   "source": [
    "from sorting import quick_sort\n",
    "l=generate_random_array()\n",
    "quick_sort(l)\n",
    "l"
   ]
  },
  {
   "cell_type": "markdown",
   "metadata": {},
   "source": [
    "# 3 Procedure ou fonction ?"
   ]
  },
  {
   "cell_type": "code",
   "execution_count": null,
   "metadata": {},
   "outputs": [],
   "source": [
    "# Python sort and sorted functions\n",
    "A = generate_random_array()\n",
    "print(id(A)) \n",
    "A.sort()\n",
    "print(id(A), id(sorted(A)))"
   ]
  },
  {
   "cell_type": "markdown",
   "metadata": {},
   "source": [
    "# 4 Suite fibonnacci\n",
    "u[n] = u[n-1] + u[n-2] "
   ]
  },
  {
   "cell_type": "code",
   "execution_count": null,
   "metadata": {},
   "outputs": [],
   "source": [
    "tab=[0, 1, 2, 5, 15, 45]\n",
    "\n",
    "def fibonacci(n):\n",
    "    print('ici')\n",
    "    for i in range(2,len(tab)):\n",
    "        if A==tab[i]:\n",
    "            #calcul avec les valeurs précédentes\n",
    "            resultat= tab[i-1]+tab[i-2]\n",
    "            print('là')\n",
    "    return resultat\n",
    "\n",
    "print(fibonacci(45))\n",
    "# 1836311903 \n",
    "\n",
    "\n"
   ]
  },
  {
   "cell_type": "code",
   "execution_count": 25,
   "metadata": {},
   "outputs": [
    {
     "name": "stdout",
     "output_type": "stream",
     "text": [
      "8\n"
     ]
    }
   ],
   "source": [
    "#fibonnacci de base\n",
    "def fibonacci(n):\n",
    "    if n <= 1:\n",
    "        return n\n",
    "    else:\n",
    "        return fibonacci(n-1) + fibonacci(n-2)\n",
    "    \n",
    "print(fibonacci(6))\n",
    "#8"
   ]
  }
 ],
 "metadata": {
  "kernelspec": {
   "display_name": "Python 3 (ipykernel)",
   "language": "python",
   "name": "python3"
  },
  "language_info": {
   "codemirror_mode": {
    "name": "ipython",
    "version": 3
   },
   "file_extension": ".py",
   "mimetype": "text/x-python",
   "name": "python",
   "nbconvert_exporter": "python",
   "pygments_lexer": "ipython3",
   "version": "3.11.9"
  }
 },
 "nbformat": 4,
 "nbformat_minor": 2
}
