##Extraire l’ensemble des lignes d’un fichier csv
import csv
#/home/damien.schaeffer@Digital-Grenoble.local/Documents/Arbres/data/?!
#Comment utiliser l'adresse????
with open('data/trees.csv', newline='') as csvfile:
    reader = csv.reader(csvfile,delimiter=';')
    data=list(reader)

##Afficher les 2 premières lignes
data[:2]



##Afficher les 2 premières lignes V2
def afficher_ligne(data, n):
    return data[n]

print(afficher_ligne(data, 1))
print(afficher_ligne(data, 2))



##Afficher la 2ème colonne
def affiche_colonne(fichier_csv, n, c):
    ligne = afficher_ligne(fichier_csv, n)
    colonne = ligne[c]
    return colonne


print(affiche_colonne("/home/damien.schaeffer@Digital-Grenoble.local/Documents/Arbres/data/trees.csv", 1, 2))
print(affiche_colonne("/home/damien.schaeffer@Digital-Grenoble.local/Documents/Arbres/data/trees.csv", 2, 2))


##Afficher année de plantation des 10 premières lignes /Recherche un nom de colonne
def get_index_from_column_name(meta_data, col_name):
    for col in meta_data:
        if col == col_name:
            print("trouvé")

for ligne in data[:10]:
    print(ligne[19])



##Afficher les 50 premières
for ligne in data[:50]:
    print(ligne[19])


##Afficher les 50 dernières
for ligne in data[-50::]:
    print(ligne[19])


#Exemple d'utilisation len()

test = [
    ['pinus', 1658],
    ['acerifolia', 1678],
    ['pinus', 1658],
    ['erable', 1658],
    ['pinus', 1658]
]

len(test[0])


len(data)


#Combien d’arbres sont recensés dans ce jeu de données ? (utilisation de len())
cmb=[]
for ligne in data[1:]:
    #affiche toute les lignes du fichier de la colonne (sous_categorie_desc)
    #print (ligne[8])
   
    #Enregistre le nombre de caractère des cellules de la colonne--> sous_categorie_desc
    x=len(ligne[8])
    if x!=0 and x!=17:
        
        #Utilisation d'une liste? OK?!
        cmb.append(x)

print(x)

cmb_complet= set(cmb)
print(cmb_complet)


#comptabiliser le nombre d'arbres?!
#for elt in cmb_complet:
    #PB avec le count
    #nb_arbre= cmb_complet.count(elt)
#print (nb_arbre)





###Pour combien d’arbres manque-t-il l’information concernant la date de plantation ?
#(Vous pouvez essayer de le faire d’au moins deux manières différentes. --> Utilisation de count)


#Methode1
    #anneeplantation==""
sans_date=0
for ligne in data[::]:
    #print(ligne[19])
    if ligne[19]=="":
        sans_date=sans_date+1
print('Test ')
print(sans_date)


#Methode2
#anneeplantation!= type int



##Combien d’arbres ont été plantés l’année de votre naissance ?


cmb_1986=0
for ligne in data[::]:
    #affiche toute les lignes du fichier de la colonne (sous_categorie_desc)
    #print (ligne[8])
   
    #Enregistre le nombre de caractère des cellules de la colonne--> sous_categorie_desc
    x=(ligne[19])
        #print("ici")
        #print(x)
    
    #anneeplantation==1986
    #Ne rentre pas là
    if x=='1986':
        #Utilisation d'une liste?
        #print ("là")
        cmb_1986=cmb_1986+1
        
print(cmb_1986)




