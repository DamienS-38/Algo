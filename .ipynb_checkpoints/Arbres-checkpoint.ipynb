{
 "cells": [
  {
   "cell_type": "code",
   "execution_count": 8,
   "id": "abcabdcd-d1bd-470a-9888-3e506e451b8c",
   "metadata": {},
   "outputs": [],
   "source": [
    "##Extraire l’ensemble des lignes d’un fichier csv\n",
    "import csv\n",
    "#/home/damien.schaeffer@Digital-Grenoble.local/Documents/Arbres/data/?!\n",
    "#Comment utiliser l'adresse????\n",
    "with open('data/trees.csv', newline='') as csvfile:\n",
    "    reader = csv.reader(csvfile,delimiter=';')\n",
    "    data=list(reader)\n",
    "\n",
    "##Afficher les 2 premières lignes\n",
    "data[:2]\n"
   ]
  },
  {
   "cell_type": "code",
   "execution_count": 10,
   "id": "290a6dac-f051-4c9e-abe7-4b261c8172fc",
   "metadata": {
    "tags": []
   },
   "outputs": [
    {
     "name": "stdout",
     "output_type": "stream",
     "text": [
      "['27452', 'ESP29627', 'AR29627', 'VEG', 'VEGETATION', 'ESP01', 'Arbre', 'ESP174', \"Arbre d'espaces ouverts\", 'ESP991', 'Prc Mis dans vivaces Mairie', '5', 'AR29627', 'Ginkgo', 'biloba', '', 'Arbre adulte', '', '', '1965', '', '', '', '', '', '', '', '', '', '', 'Ville de Grenoble', '', 'de 10 m à 20 m', 'Libre', 'Ville de Grenoble', 'Tige', 'Libre', '45.18599541005583,5.736390702744254']\n",
      "['27458', 'ESP29628', 'AR29628', 'VEG', 'VEGETATION', 'ESP01', 'Arbre', 'ESP174', \"Arbre d'espaces ouverts\", 'ESP22', 'Prc Mis pelouses de la famille', '5', 'AR29628', 'Platanus', 'acerifolia', '', 'Arbre adulte', '', '', '1965', '', '', '', '', '', '', '', '', '', '', 'Ville de Grenoble', '', 'Plus de 20 m', 'Libre', 'Ville de Grenoble', '', 'Libre', '45.18535720117796,5.737112737684537']\n"
     ]
    }
   ],
   "source": [
    "##Afficher les 2 premières lignes V2\n",
    "def afficher_ligne(data, n):\n",
    "    return data[n]\n",
    "\n",
    "print(afficher_ligne(data, 1))\n",
    "print(afficher_ligne(data, 2))"
   ]
  },
  {
   "cell_type": "code",
   "execution_count": 11,
   "id": "99cf2a46-35b1-4e9e-9f1c-7854b60210f7",
   "metadata": {
    "tags": []
   },
   "outputs": [
    {
     "name": "stdout",
     "output_type": "stream",
     "text": [
      "AR29627\n",
      "AR29628\n"
     ]
    }
   ],
   "source": [
    "\n",
    "##Afficher la 2ème colonne\n",
    "def affiche_colonne(fichier_csv, n, c):\n",
    "    ligne = afficher_ligne(fichier_csv, n)\n",
    "    colonne = ligne[c]\n",
    "    return colonne\n",
    "\n",
    "\n",
    "print(affiche_colonne(\"/home/damien.schaeffer@Digital-Grenoble.local/Documents/Arbres/data/trees.csv\", 1, 2))\n",
    "print(affiche_colonne(\"/home/damien.schaeffer@Digital-Grenoble.local/Documents/Arbres/data/trees.csv\", 2, 2))"
   ]
  },
  {
   "cell_type": "code",
   "execution_count": 11,
   "id": "94c7c050-9367-4fd0-8f72-32acd418f725",
   "metadata": {
    "tags": []
   },
   "outputs": [
    {
     "name": "stdout",
     "output_type": "stream",
     "text": [
      "anneedeplantation\n",
      "1965\n",
      "1965\n",
      "1965\n",
      "1965\n",
      "1965\n",
      "2006\n",
      "1965\n",
      "1965\n",
      "1965\n"
     ]
    }
   ],
   "source": [
    "##Afficher année de plantation des 10 premières lignes /Recherche un nom de colonne\n",
    "def get_index_from_column_name(meta_data, col_name):\n",
    "    for col in meta_data:\n",
    "        if col == col_name:\n",
    "            print(\"trouvé\")\n",
    "\n",
    "for ligne in data[:10]:\n",
    "    print(ligne[19])\n"
   ]
  },
  {
   "cell_type": "code",
   "execution_count": 13,
   "id": "a7289f4d-4bf2-4696-927a-86bf1c9c58a4",
   "metadata": {
    "tags": []
   },
   "outputs": [
    {
     "name": "stdout",
     "output_type": "stream",
     "text": [
      "anneedeplantation\n",
      "1965\n",
      "1965\n",
      "1965\n",
      "1965\n",
      "1965\n",
      "2006\n",
      "1965\n",
      "1965\n",
      "1965\n",
      "1965\n",
      "1965\n",
      "2009\n",
      "1995\n",
      "1995\n",
      "1979\n",
      "1985\n",
      "1976\n",
      "1976\n",
      "1975\n",
      "1985\n",
      "1976\n",
      "1976\n",
      "1975\n",
      "1975\n",
      "1975\n",
      "1976\n",
      "1976\n",
      "1985\n",
      "1985\n",
      "1981\n",
      "1974\n",
      "1976\n",
      "1976\n",
      "2008\n",
      "2008\n",
      "1985\n",
      "1985\n",
      "1976\n",
      "1976\n",
      "1985\n",
      "1981\n",
      "1999\n",
      "1965\n",
      "1980\n",
      "1970\n",
      "1970\n",
      "1984\n",
      "1984\n",
      "1969\n"
     ]
    }
   ],
   "source": [
    "##Afficher les 50 premières\n",
    "for ligne in data[:50]:\n",
    "    print(ligne[19])"
   ]
  },
  {
   "cell_type": "code",
   "execution_count": 14,
   "id": "852bfcb3-fc25-4942-bcb9-0b684cf8a2de",
   "metadata": {
    "tags": []
   },
   "outputs": [
    {
     "name": "stdout",
     "output_type": "stream",
     "text": [
      "2001\n",
      "2001\n",
      "1965\n",
      "2010\n",
      "1965\n",
      "1981\n",
      "1965\n",
      "1975\n",
      "2006\n",
      "2001\n",
      "2001\n",
      "1975\n",
      "1975\n",
      "1977\n",
      "2001\n",
      "2001\n",
      "1975\n",
      "1978\n",
      "1978\n",
      "1998\n",
      "1982\n",
      "2001\n",
      "1994\n",
      "2011\n",
      "2009\n",
      "2006\n",
      "2006\n",
      "1975\n",
      "2011\n",
      "2006\n",
      "1970\n",
      "1965\n",
      "1965\n",
      "1965\n",
      "1965\n",
      "2006\n",
      "1982\n",
      "2006\n",
      "1955\n",
      "1965\n",
      "1950\n",
      "1965\n",
      "2006\n",
      "1965\n",
      "1965\n",
      "1970\n",
      "1997\n",
      "1960\n",
      "1979\n",
      "1981\n"
     ]
    }
   ],
   "source": [
    "##Afficher les 50 dernières\n",
    "for ligne in data[-50::]:\n",
    "    print(ligne[19])"
   ]
  },
  {
   "cell_type": "code",
   "execution_count": 30,
   "id": "7b4fd424",
   "metadata": {},
   "outputs": [
    {
     "data": {
      "text/plain": [
       "2"
      ]
     },
     "execution_count": 30,
     "metadata": {},
     "output_type": "execute_result"
    }
   ],
   "source": [
    "#Exemple d'utilisation len()\n",
    "\n",
    "test = [\n",
    "    ['pinus', 1658],\n",
    "    ['acerifolia', 1678],\n",
    "    ['pinus', 1658],\n",
    "    ['erable', 1658],\n",
    "    ['pinus', 1658]\n",
    "]\n",
    "\n",
    "len(test[0])"
   ]
  },
  {
   "cell_type": "code",
   "execution_count": 33,
   "id": "2153240d",
   "metadata": {},
   "outputs": [
    {
     "data": {
      "text/plain": [
       "31827"
      ]
     },
     "execution_count": 33,
     "metadata": {},
     "output_type": "execute_result"
    }
   ],
   "source": [
    "len(data)"
   ]
  },
  {
   "cell_type": "code",
   "execution_count": 24,
   "id": "a4aee0ad-b3af-4975-879b-4f079fcbe4a4",
   "metadata": {
    "tags": []
   },
   "outputs": [
    {
     "name": "stdout",
     "output_type": "stream",
     "text": [
      "15\n",
      "{25, 19, 15, 23}\n"
     ]
    }
   ],
   "source": [
    "#Combien d’arbres sont recensés dans ce jeu de données ? (utilisation de len())\n",
    "cmb=[]\n",
    "for ligne in data[1:]:\n",
    "    #affiche toute les lignes du fichier de la colonne (sous_categorie_desc)\n",
    "    #print (ligne[8])\n",
    "   \n",
    "    #Enregistre le nombre de caractère des cellules de la colonne--> sous_categorie_desc\n",
    "    x=len(ligne[8])\n",
    "    if x!=0 and x!=17:\n",
    "        \n",
    "        #Utilisation d'une liste? OK?!\n",
    "        cmb.append(x)\n",
    "\n",
    "print(x)\n",
    "\n",
    "cmb_complet= set(cmb)\n",
    "print(cmb_complet)\n",
    "\n",
    "\n",
    "#comptabiliser le nombre d'arbres?!\n",
    "#for elt in cmb_complet:\n",
    "    #PB avec le count\n",
    "    #nb_arbre= cmb_complet.count(elt)\n",
    "#print (nb_arbre)\n",
    "\n",
    "\n"
   ]
  },
  {
   "cell_type": "code",
   "execution_count": 21,
   "id": "bec30ca2-ddc3-46f9-9565-c2c06bcda7f5",
   "metadata": {
    "tags": []
   },
   "outputs": [],
   "source": [
    "###Pour combien d’arbres manque-t-il l’information concernant la date de plantation ?\n",
    "#(Vous pouvez essayer de le faire d’au moins deux manières différentes. --> Utilisation de count)"
   ]
  },
  {
   "cell_type": "code",
   "execution_count": 32,
   "id": "1214c24d-0bf3-4b61-8fdf-418f8b4265bc",
   "metadata": {
    "tags": []
   },
   "outputs": [
    {
     "name": "stdout",
     "output_type": "stream",
     "text": [
      "Test \n",
      "1998\n"
     ]
    }
   ],
   "source": [
    "#Methode1\n",
    "    #anneeplantation==\"\"\n",
    "sans_date=0\n",
    "for ligne in data[::]:\n",
    "    #print(ligne[19])\n",
    "    if ligne[19]==\"\":\n",
    "        sans_date=sans_date+1\n",
    "print('Test ')\n",
    "print(sans_date)\n",
    "\n",
    "\n",
    "#Methode2\n",
    "#anneeplantation!= type int\n"
   ]
  },
  {
   "cell_type": "code",
   "execution_count": 23,
   "id": "5d89223e-1318-4d3d-adc5-d2b65ff0ee66",
   "metadata": {
    "tags": []
   },
   "outputs": [],
   "source": [
    "##Combien d’arbres ont été plantés l’année de votre naissance ?"
   ]
  },
  {
   "cell_type": "code",
   "execution_count": 31,
   "id": "d4995ebb-63f5-44f9-bb28-422e8a763f24",
   "metadata": {
    "tags": []
   },
   "outputs": [
    {
     "name": "stdout",
     "output_type": "stream",
     "text": [
      "207\n"
     ]
    }
   ],
   "source": [
    "cmb_1986=0\n",
    "for ligne in data[::]:\n",
    "    #affiche toute les lignes du fichier de la colonne (sous_categorie_desc)\n",
    "    #print (ligne[8])\n",
    "   \n",
    "    #Enregistre le nombre de caractère des cellules de la colonne--> sous_categorie_desc\n",
    "    x=(ligne[19])\n",
    "        #print(\"ici\")\n",
    "        #print(x)\n",
    "    \n",
    "    #anneeplantation==1986\n",
    "    #Ne rentre pas là\n",
    "    if x=='1986':\n",
    "        #Utilisation d'une liste?\n",
    "        #print (\"là\")\n",
    "        cmb_1986=cmb_1986+1\n",
    "        \n",
    "print(cmb_1986)\n"
   ]
  },
  {
   "cell_type": "code",
   "execution_count": null,
   "id": "347b2c23-7c46-45e7-bffc-8dee6551420e",
   "metadata": {},
   "outputs": [],
   "source": []
  }
 ],
 "metadata": {
  "kernelspec": {
   "display_name": "Python 3 (ipykernel)",
   "language": "python",
   "name": "python3"
  },
  "language_info": {
   "codemirror_mode": {
    "name": "ipython",
    "version": 3
   },
   "file_extension": ".py",
   "mimetype": "text/x-python",
   "name": "python",
   "nbconvert_exporter": "python",
   "pygments_lexer": "ipython3",
   "version": "3.11.9"
  }
 },
 "nbformat": 4,
 "nbformat_minor": 5
}
